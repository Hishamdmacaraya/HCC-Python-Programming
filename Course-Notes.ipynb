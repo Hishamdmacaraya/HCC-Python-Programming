{
 "cells": [
  {
   "cell_type": "markdown",
   "metadata": {},
   "source": [
    "# COSC-1436-Programming Fundamentals I (Python)\n",
    "Fall 2023\n",
    "\n",
    "by Muhammad (Farhan) Khan"
   ]
  },
  {
   "cell_type": "code",
   "execution_count": 1,
   "metadata": {},
   "outputs": [
    {
     "name": "stdout",
     "output_type": "stream",
     "text": [
      "Hello World\n"
     ]
    }
   ],
   "source": [
    "print('Hello World')"
   ]
  },
  {
   "cell_type": "code",
   "execution_count": 1,
   "metadata": {},
   "outputs": [
    {
     "name": "stdout",
     "output_type": "stream",
     "text": [
      "Area is 78.53975\n"
     ]
    }
   ],
   "source": [
    "radius = 5\n",
    "\n",
    "if radius < 0:\n",
    "    print('Negative radius value')\n",
    "\n",
    "else:\n",
    "    area = 3.14159 * radius * radius\n",
    "    print('Area is', area)"
   ]
  },
  {
   "cell_type": "code",
   "execution_count": 2,
   "metadata": {},
   "outputs": [],
   "source": [
    "mySecretNumber = 18\n",
    "userGuess = int(input('Enter your guess: '))\n",
    "\n",
    "if userGuess == mySecretNumber:\n",
    "    print('Congratulations! You guessed my number!')\n",
    "\n",
    "else:\n",
    "    print('Sorry, your guess is not correct... The secret number is not', userGuess)"
   ]
  },
  {
   "cell_type": "code",
   "execution_count": 1,
   "metadata": {},
   "outputs": [
    {
     "name": "stdout",
     "output_type": "stream",
     "text": [
      "1\n",
      "0\n"
     ]
    }
   ],
   "source": [
    "print(int(True))\n",
    "print(int(False))"
   ]
  },
  {
   "cell_type": "code",
   "execution_count": 10,
   "metadata": {},
   "outputs": [
    {
     "ename": "SyntaxError",
     "evalue": "invalid syntax (381463784.py, line 6)",
     "output_type": "error",
     "traceback": [
      "\u001b[1;36m  Cell \u001b[1;32mIn[10], line 6\u001b[1;36m\u001b[0m\n\u001b[1;33m    case 1: score >= 90:\u001b[0m\n\u001b[1;37m                       ^\u001b[0m\n\u001b[1;31mSyntaxError\u001b[0m\u001b[1;31m:\u001b[0m invalid syntax\n"
     ]
    }
   ],
   "source": [
    " #My match-case statement\n",
    "\n",
    "score = int(input(\"Enter the score: \", ))\n",
    "\n",
    "match score:\n",
    "    case 1: score >= 90: \n",
    "        print(\"grade is A\")\n",
    "    case _: print(\"grade is F\")\n",
    "\n",
    "\n"
   ]
  },
  {
   "cell_type": "code",
   "execution_count": 14,
   "metadata": {},
   "outputs": [
    {
     "name": "stdout",
     "output_type": "stream",
     "text": [
      "grade is A\n"
     ]
    }
   ],
   "source": [
    "\n",
    "score = int(input(\"Enter the score: \", ))\n",
    "\n",
    "match score:\n",
    "    case s if s >= 90.0:\n",
    "        print(\"grade is A\")\n",
    "    case s if s >= 80.0:\n",
    "        print(\"grade is B\")\n",
    "    case s if s >= 70.0:\n",
    "        print(\"grade is C\")\n",
    "    case s if s >= 60.0:\n",
    "        print(\"grade is D\")\n",
    "    case _:\n",
    "        print(\"grade is F\")"
   ]
  },
  {
   "cell_type": "code",
   "execution_count": 23,
   "metadata": {},
   "outputs": [
    {
     "name": "stdout",
     "output_type": "stream",
     "text": [
      "grade is B\n"
     ]
    }
   ],
   "source": [
    "score = int(input(\"Enter the score: \", ))\n",
    "\n",
    "match score:\n",
    "    case i if i >= 90.0:\n",
    "        print(\"grade is A\")\n",
    "    case i if i >= 80.0:\n",
    "        print(\"grade is B\")\n",
    "    case i if i >= 70.0:\n",
    "        print(\"grade is C\")\n",
    "    case i if i >= 60.0:\n",
    "        print(\"grade is D\")\n",
    "    case _:\n",
    "        print(\"grade is F\")\n"
   ]
  },
  {
   "cell_type": "code",
   "execution_count": 4,
   "metadata": {},
   "outputs": [
    {
     "name": "stdout",
     "output_type": "stream",
     "text": [
      "The number 6 is even.\n"
     ]
    }
   ],
   "source": [
    "#Problem 1: Write a Python program to check if the number entered by the user is even or odd.\n",
    "\n",
    "number = int(input(\"Enter a number: \", ))\n",
    "\n",
    "if number % 2 == 0:\n",
    "    print(\"The number\", number, \"is even.\")\n",
    "else:    \n",
    "    print(\"The number\", number, \"is odd.\")"
   ]
  },
  {
   "cell_type": "code",
   "execution_count": 5,
   "metadata": {},
   "outputs": [
    {
     "name": "stdout",
     "output_type": "stream",
     "text": [
      "The highest number is 100\n"
     ]
    }
   ],
   "source": [
    "#Problem 2: Write a Python program to find highest value of a number among three numbers. Take 3 numbers as input from the user. (Take first limit, last and then finally determine the number is smaller or grater then first or last number).\n",
    "\n",
    "first = int(input(\"Enter the first number: \", ))\n",
    "second = int(input(\"Enter the second number: \", ))\n",
    "third = int(input(\"Enter the third number: \", ))\n",
    "\n",
    "if first > second and first > third:\n",
    "    print(\"The highest number is\", first, \".\")\n",
    "elif second > first and second > third:\n",
    "    print(\"The highest number is\", second, \".\")\n",
    "else:                       \n",
    "    print(\"The highest number is\", third, \".\")\n",
    "\n",
    "\n"
   ]
  },
  {
   "cell_type": "code",
   "execution_count": 8,
   "metadata": {},
   "outputs": [
    {
     "name": "stdout",
     "output_type": "stream",
     "text": [
      "The number -5 is negative.\n"
     ]
    }
   ],
   "source": [
    "#Problem 3: Write a Python program to check if the number entered by the user is positive or negative.\n",
    "\n",
    "number = int(input(\"Enter a number: \", ))\n",
    "\n",
    "if number > 0:      \n",
    "    print(\"The number\", number, \"is positive.\")\n",
    "\n",
    "elif number < 0:\n",
    "    print(\"The number\", number, \"is negative.\")\n",
    "\n",
    "else:   \n",
    "    print(\"The number\", number, \"is zero.\")\n",
    "\n",
    "\n",
    "\n"
   ]
  },
  {
   "cell_type": "code",
   "execution_count": 11,
   "metadata": {},
   "outputs": [
    {
     "name": "stdout",
     "output_type": "stream",
     "text": [
      "The character 5 is not an alphabet.\n"
     ]
    }
   ],
   "source": [
    "#Problem 4: Write a Python program to check if the character entered by the user is an alphabet or not.\n",
    "\n",
    "character = input(\"Enter a character: \", )\n",
    "\n",
    "if character.isalpha():\n",
    "    print(\"The character\", character, \"is an alphabet.\")\n",
    "\n",
    "else:\n",
    "    print(\"The character\", character, \"is not an alphabet.\")\n",
    "\n",
    "\n"
   ]
  },
  {
   "cell_type": "code",
   "execution_count": 12,
   "metadata": {},
   "outputs": [
    {
     "name": "stdout",
     "output_type": "stream",
     "text": [
      "The character ' is a special character.\n"
     ]
    }
   ],
   "source": [
    "#Problem 5: Write a Python program to check if the character entered by the user is an alphabet, digit or special character.\n",
    "\n",
    "character = input(\"Enter a character: \", )\n",
    "\n",
    "if character.isalpha():\n",
    "    print(\"The character\", character, \"is an alphabet.\")\n",
    "\n",
    "elif character.isdigit():\n",
    "    print(\"The character\", character, \"is a digit.\")\n",
    "\n",
    "else:\n",
    "    print(\"The character\", character, \"is a special character.\")"
   ]
  },
  {
   "cell_type": "code",
   "execution_count": 4,
   "metadata": {},
   "outputs": [
    {
     "ename": "TypeError",
     "evalue": "deque.popleft() takes no arguments (1 given)",
     "output_type": "error",
     "traceback": [
      "\u001b[1;31m---------------------------------------------------------------------------\u001b[0m",
      "\u001b[1;31mTypeError\u001b[0m                                 Traceback (most recent call last)",
      "\u001b[1;32mc:\\Users\\hisha\\OneDrive\\Git\\HCC-Python-Programming\\Course-Notes.ipynb Cell 14\u001b[0m line \u001b[0;36m6\n\u001b[0;32m      <a href='vscode-notebook-cell:/c%3A/Users/hisha/OneDrive/Git/HCC-Python-Programming/Course-Notes.ipynb#X16sZmlsZQ%3D%3D?line=3'>4</a>\u001b[0m myqueue\u001b[39m.\u001b[39mappend(\u001b[39m0\u001b[39m)\n\u001b[0;32m      <a href='vscode-notebook-cell:/c%3A/Users/hisha/OneDrive/Git/HCC-Python-Programming/Course-Notes.ipynb#X16sZmlsZQ%3D%3D?line=4'>5</a>\u001b[0m myqueue\u001b[39m.\u001b[39mpop()\n\u001b[1;32m----> <a href='vscode-notebook-cell:/c%3A/Users/hisha/OneDrive/Git/HCC-Python-Programming/Course-Notes.ipynb#X16sZmlsZQ%3D%3D?line=5'>6</a>\u001b[0m myqueue\u001b[39m.\u001b[39;49mpopleft(\u001b[39m10\u001b[39;49m)\n\u001b[0;32m      <a href='vscode-notebook-cell:/c%3A/Users/hisha/OneDrive/Git/HCC-Python-Programming/Course-Notes.ipynb#X16sZmlsZQ%3D%3D?line=6'>7</a>\u001b[0m myqueue\u001b[39m.\u001b[39mappendleft()\n\u001b[0;32m      <a href='vscode-notebook-cell:/c%3A/Users/hisha/OneDrive/Git/HCC-Python-Programming/Course-Notes.ipynb#X16sZmlsZQ%3D%3D?line=7'>8</a>\u001b[0m \u001b[39mprint\u001b[39m(myqueue)\n",
      "\u001b[1;31mTypeError\u001b[0m: deque.popleft() takes no arguments (1 given)"
     ]
    }
   ],
   "source": [
    "from collections import deque\n",
    "\n",
    "myqueue = deque([i for i in range(10)])\n",
    "myqueue.append(0)\n",
    "myqueue.pop()\n",
    "myqueue.popleft(10)\n",
    "myqueue.appendleft()\n",
    "print(myqueue)\n"
   ]
  },
  {
   "cell_type": "code",
   "execution_count": 5,
   "metadata": {},
   "outputs": [
    {
     "ename": "TypeError",
     "evalue": "deque.popleft() takes no arguments (1 given)",
     "output_type": "error",
     "traceback": [
      "\u001b[1;31m---------------------------------------------------------------------------\u001b[0m",
      "\u001b[1;31mTypeError\u001b[0m                                 Traceback (most recent call last)",
      "\u001b[1;32mc:\\Users\\hisha\\OneDrive\\Git\\HCC-Python-Programming\\Course-Notes.ipynb Cell 15\u001b[0m line \u001b[0;36m6\n\u001b[0;32m      <a href='vscode-notebook-cell:/c%3A/Users/hisha/OneDrive/Git/HCC-Python-Programming/Course-Notes.ipynb#X20sZmlsZQ%3D%3D?line=3'>4</a>\u001b[0m myqueue\u001b[39m.\u001b[39mappend(\u001b[39m0\u001b[39m)\n\u001b[0;32m      <a href='vscode-notebook-cell:/c%3A/Users/hisha/OneDrive/Git/HCC-Python-Programming/Course-Notes.ipynb#X20sZmlsZQ%3D%3D?line=4'>5</a>\u001b[0m myqueue\u001b[39m.\u001b[39mpop()\n\u001b[1;32m----> <a href='vscode-notebook-cell:/c%3A/Users/hisha/OneDrive/Git/HCC-Python-Programming/Course-Notes.ipynb#X20sZmlsZQ%3D%3D?line=5'>6</a>\u001b[0m myqueue\u001b[39m.\u001b[39;49mpopleft(\u001b[39m10\u001b[39;49m)\n\u001b[0;32m      <a href='vscode-notebook-cell:/c%3A/Users/hisha/OneDrive/Git/HCC-Python-Programming/Course-Notes.ipynb#X20sZmlsZQ%3D%3D?line=6'>7</a>\u001b[0m myqueue\u001b[39m.\u001b[39mappendleft()\n\u001b[0;32m      <a href='vscode-notebook-cell:/c%3A/Users/hisha/OneDrive/Git/HCC-Python-Programming/Course-Notes.ipynb#X20sZmlsZQ%3D%3D?line=7'>8</a>\u001b[0m \u001b[39mprint\u001b[39m(myqueue)\n",
      "\u001b[1;31mTypeError\u001b[0m: deque.popleft() takes no arguments (1 given)"
     ]
    }
   ],
   "source": [
    "from collections import deque\n",
    "\n",
    "myqueue = deque([i for i in range(10)])\n",
    "myqueue.append(0)\n",
    "myqueue.pop()\n",
    "myqueue.popleft(10)\n",
    "myqueue.appendleft()\n",
    "print(myqueue)"
   ]
  },
  {
   "cell_type": "code",
   "execution_count": 8,
   "metadata": {},
   "outputs": [
    {
     "name": "stdout",
     "output_type": "stream",
     "text": [
      "[0, 0, 1, 2, 3, 4, 4, 5, 6, 6, 7, 8, 9]\n"
     ]
    }
   ],
   "source": [
    "a=[]\n",
    "\n",
    "for i in range(10):\n",
    "    a.append(i)\n",
    "    if i % 2 == 0:\n",
    "        a.append(a[-1])\n",
    "    elif i % 3 == 0:\n",
    "        a.remove(a[-2])\n",
    "\n",
    "print(a)"
   ]
  },
  {
   "cell_type": "code",
   "execution_count": 10,
   "metadata": {},
   "outputs": [
    {
     "name": "stdout",
     "output_type": "stream",
     "text": [
      "149\n"
     ]
    }
   ],
   "source": [
    "a = [(j**2)*10**(2-i) for (i,j) in enumerate(range(1,4))]\n",
    "\n",
    "print(sum(a))"
   ]
  },
  {
   "cell_type": "code",
   "execution_count": 12,
   "metadata": {},
   "outputs": [],
   "source": [
    "tup1=(5, 4,7,9,1)\n",
    "tup2=(3.1, 6.3,9.1,1.1)\n"
   ]
  },
  {
   "cell_type": "code",
   "execution_count": 6,
   "metadata": {},
   "outputs": [
    {
     "name": "stdout",
     "output_type": "stream",
     "text": [
      "1\n",
      "21\n",
      "321\n",
      "4321\n",
      "54321\n",
      "654321\n"
     ]
    }
   ],
   "source": [
    "for i in range(1, 6 + 1):\n",
    "    for j in range(6, 0, -1):\n",
    "        print(j if j <= i else \"\", end=\"\")\n",
    "    print()"
   ]
  },
  {
   "cell_type": "code",
   "execution_count": 7,
   "metadata": {},
   "outputs": [
    {
     "ename": "KeyboardInterrupt",
     "evalue": "",
     "output_type": "error",
     "traceback": [
      "\u001b[1;31m---------------------------------------------------------------------------\u001b[0m",
      "\u001b[1;31mKeyboardInterrupt\u001b[0m                         Traceback (most recent call last)",
      "\u001b[1;32mc:\\Users\\hisha\\OneDrive\\Git\\HCC-Python-Programming\\Course-Notes.ipynb Cell 20\u001b[0m line \u001b[0;36m2\n\u001b[0;32m      <a href='vscode-notebook-cell:/c%3A/Users/hisha/OneDrive/Git/HCC-Python-Programming/Course-Notes.ipynb#X25sZmlsZQ%3D%3D?line=0'>1</a>\u001b[0m \u001b[39msum\u001b[39m \u001b[39m=\u001b[39m d \u001b[39m=\u001b[39m \u001b[39m0\u001b[39m\n\u001b[1;32m----> <a href='vscode-notebook-cell:/c%3A/Users/hisha/OneDrive/Git/HCC-Python-Programming/Course-Notes.ipynb#X25sZmlsZQ%3D%3D?line=1'>2</a>\u001b[0m \u001b[39mwhile\u001b[39;00m d \u001b[39m!=\u001b[39m \u001b[39m10.0\u001b[39m:\n\u001b[0;32m      <a href='vscode-notebook-cell:/c%3A/Users/hisha/OneDrive/Git/HCC-Python-Programming/Course-Notes.ipynb#X25sZmlsZQ%3D%3D?line=2'>3</a>\u001b[0m     d \u001b[39m+\u001b[39m\u001b[39m=\u001b[39m \u001b[39m0.1\u001b[39m\n\u001b[0;32m      <a href='vscode-notebook-cell:/c%3A/Users/hisha/OneDrive/Git/HCC-Python-Programming/Course-Notes.ipynb#X25sZmlsZQ%3D%3D?line=3'>4</a>\u001b[0m     \u001b[39msum\u001b[39m \u001b[39m+\u001b[39m\u001b[39m=\u001b[39m \u001b[39msum\u001b[39m \u001b[39m+\u001b[39m d\n",
      "\u001b[1;31mKeyboardInterrupt\u001b[0m: "
     ]
    }
   ],
   "source": [
    "sum = d = 0\n",
    "while d != 10.0:\n",
    "    d += 0.1\n",
    "    sum += sum + d"
   ]
  },
  {
   "cell_type": "code",
   "execution_count": 9,
   "metadata": {},
   "outputs": [],
   "source": [
    "n = 2\n",
    "\n",
    "is_prime = True\n",
    "\n",
    "if n <= 1:\n",
    "    is_prime = False  # Negative numbers and 1 are not prime\n",
    "else:\n",
    "    for i in range(2, int(n**0.5) + 1):\n",
    "        if n % i == 0:\n",
    "            is_prime = False  # 'n' is divisible by 'i', so it's not prime\n",
    "            break\n"
   ]
  },
  {
   "cell_type": "code",
   "execution_count": null,
   "metadata": {},
   "outputs": [],
   "source": [
    "#Given a positive integer n, assign True to is_prime if n has no factors other than 1 and itself. (Remember, m is a factor of n if m divides n evenly.)\n",
    "\n",
    "n = 2          # Assume n is a positive integer greater than 1\n",
    "is_prime = True   # Provisionally, n is prime\n",
    "for i in range(2, int(n**0.5) + 1):\n",
    "    if n % i == 0:\n",
    "        is_prime = False  # Found a factor of n\n",
    "        break\n",
    "print(is_prime)\n",
    "\n",
    "\n",
    "#Given a positive integer n, assign True to is_prime if n has no factors other than 1 and itself. (Remember, m is a factor of n if m divides n evenly.) \n",
    "\n"
   ]
  },
  {
   "cell_type": "code",
   "execution_count": 10,
   "metadata": {},
   "outputs": [
    {
     "name": "stdout",
     "output_type": "stream",
     "text": [
      "2 is prime\n"
     ]
    }
   ],
   "source": [
    "n = 2          # Assume n is a positive integer greater than 1\n",
    "is_prime = True   # Provisionally, n is prime\n",
    "for i in range(2, int(n**0.5) + 1):\n",
    "    if n % i == 0:\n",
    "        is_prime = False  # Found a factor of n\n",
    "        break\n",
    "\n",
    "if is_prime:\n",
    "    print(n, \"is prime\")\n",
    "else:\n",
    "    print(n, \"is not prime\")"
   ]
  },
  {
   "cell_type": "markdown",
   "metadata": {},
   "source": [
    "An arithmetic progression is a sequence of numbers in which the distance (or difference) between any two successive numbers is the same. For example, in the sequence 1, 3, 5, 7, ..., the distance is 2 while in the sequence 6, 12, 18, 24, ..., the distance is 6.\n",
    "Given the positive integer distance and the positive integer n, associate the variable sum with the sum of the elements of the arithmetic progression from 1 to n with distance distance. For example, if distance is 2 and n is 10, then sum would be associated with 25 because 1+3+5+7+9 = 25."
   ]
  },
  {
   "cell_type": "code",
   "execution_count": 11,
   "metadata": {},
   "outputs": [],
   "source": [
    "# Given positive integer values 'distance' and 'n'\n",
    "distance = 2  # Replace with your desired distance\n",
    "n = 10  # Replace with your desired positive integer 'n'\n",
    "\n",
    "# Initialize the sum variable to 0\n",
    "sum = 0\n",
    "\n",
    "# Use a loop to calculate the sum of the arithmetic progression\n",
    "for i in range(1, n + 1, distance):\n",
    "    sum += i\n",
    "\n",
    "# 'sum' now contains the sum of the elements of the arithmetic progression"
   ]
  }
 ],
 "metadata": {
  "kernelspec": {
   "display_name": "Python 3",
   "language": "python",
   "name": "python3"
  },
  "language_info": {
   "codemirror_mode": {
    "name": "ipython",
    "version": 3
   },
   "file_extension": ".py",
   "mimetype": "text/x-python",
   "name": "python",
   "nbconvert_exporter": "python",
   "pygments_lexer": "ipython3",
   "version": "3.11.2"
  },
  "orig_nbformat": 4
 },
 "nbformat": 4,
 "nbformat_minor": 2
}
