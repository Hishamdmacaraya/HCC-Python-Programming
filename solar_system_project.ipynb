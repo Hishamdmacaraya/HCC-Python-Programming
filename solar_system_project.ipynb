{
 "cells": [
  {
   "cell_type": "markdown",
   "metadata": {},
   "source": []
  },
  {
   "cell_type": "code",
   "execution_count": 2,
   "metadata": {},
   "outputs": [
    {
     "ename": "Terminator",
     "evalue": "",
     "output_type": "error",
     "traceback": [
      "\u001b[1;31m---------------------------------------------------------------------------\u001b[0m",
      "\u001b[1;31mTerminator\u001b[0m                                Traceback (most recent call last)",
      "\u001b[1;32mc:\\Users\\hisha\\OneDrive\\Git\\HCC-Python-Programming\\solar_system_project.ipynb Cell 2\u001b[0m line \u001b[0;36m7\n\u001b[0;32m     <a href='vscode-notebook-cell:/c%3A/Users/hisha/OneDrive/Git/HCC-Python-Programming/solar_system_project.ipynb#W1sZmlsZQ%3D%3D?line=71'>72</a>\u001b[0m \u001b[39m# Main loop\u001b[39;00m\n\u001b[0;32m     <a href='vscode-notebook-cell:/c%3A/Users/hisha/OneDrive/Git/HCC-Python-Programming/solar_system_project.ipynb#W1sZmlsZQ%3D%3D?line=72'>73</a>\u001b[0m \u001b[39mfor\u001b[39;00m _ \u001b[39min\u001b[39;00m \u001b[39mrange\u001b[39m(\u001b[39m1000\u001b[39m):  \u001b[39m# Replace 1000 with the number of iterations you want\u001b[39;00m\n\u001b[1;32m---> <a href='vscode-notebook-cell:/c%3A/Users/hisha/OneDrive/Git/HCC-Python-Programming/solar_system_project.ipynb#W1sZmlsZQ%3D%3D?line=73'>74</a>\u001b[0m     win\u001b[39m.\u001b[39;49mupdate()\n\u001b[0;32m     <a href='vscode-notebook-cell:/c%3A/Users/hisha/OneDrive/Git/HCC-Python-Programming/solar_system_project.ipynb#W1sZmlsZQ%3D%3D?line=74'>75</a>\u001b[0m     \u001b[39mfor\u001b[39;00m i \u001b[39min\u001b[39;00m myList:\n\u001b[0;32m     <a href='vscode-notebook-cell:/c%3A/Users/hisha/OneDrive/Git/HCC-Python-Programming/solar_system_project.ipynb#W1sZmlsZQ%3D%3D?line=75'>76</a>\u001b[0m         i\u001b[39m.\u001b[39mmove()\n",
      "File \u001b[1;32mc:\\Users\\hisha\\AppData\\Local\\Programs\\Python\\Python312\\Lib\\turtle.py:1295\u001b[0m, in \u001b[0;36mTurtleScreen.update\u001b[1;34m(self)\u001b[0m\n\u001b[0;32m   1293\u001b[0m \u001b[39mself\u001b[39m\u001b[39m.\u001b[39m_tracing \u001b[39m=\u001b[39m \u001b[39mTrue\u001b[39;00m\n\u001b[0;32m   1294\u001b[0m \u001b[39mfor\u001b[39;00m t \u001b[39min\u001b[39;00m \u001b[39mself\u001b[39m\u001b[39m.\u001b[39mturtles():\n\u001b[1;32m-> 1295\u001b[0m     t\u001b[39m.\u001b[39;49m_update_data()\n\u001b[0;32m   1296\u001b[0m     t\u001b[39m.\u001b[39m_drawturtle()\n\u001b[0;32m   1297\u001b[0m \u001b[39mself\u001b[39m\u001b[39m.\u001b[39m_tracing \u001b[39m=\u001b[39m tracing\n",
      "File \u001b[1;32mc:\\Users\\hisha\\AppData\\Local\\Programs\\Python\\Python312\\Lib\\turtle.py:2654\u001b[0m, in \u001b[0;36mRawTurtle._update_data\u001b[1;34m(self)\u001b[0m\n\u001b[0;32m   2653\u001b[0m \u001b[39mdef\u001b[39;00m \u001b[39m_update_data\u001b[39m(\u001b[39mself\u001b[39m):\n\u001b[1;32m-> 2654\u001b[0m     \u001b[39mself\u001b[39;49m\u001b[39m.\u001b[39;49mscreen\u001b[39m.\u001b[39;49m_incrementudc()\n\u001b[0;32m   2655\u001b[0m     \u001b[39mif\u001b[39;00m \u001b[39mself\u001b[39m\u001b[39m.\u001b[39mscreen\u001b[39m.\u001b[39m_updatecounter \u001b[39m!=\u001b[39m \u001b[39m0\u001b[39m:\n\u001b[0;32m   2656\u001b[0m         \u001b[39mreturn\u001b[39;00m\n",
      "File \u001b[1;32mc:\\Users\\hisha\\AppData\\Local\\Programs\\Python\\Python312\\Lib\\turtle.py:1284\u001b[0m, in \u001b[0;36mTurtleScreen._incrementudc\u001b[1;34m(self)\u001b[0m\n\u001b[0;32m   1282\u001b[0m \u001b[39mif\u001b[39;00m \u001b[39mnot\u001b[39;00m TurtleScreen\u001b[39m.\u001b[39m_RUNNING:\n\u001b[0;32m   1283\u001b[0m     TurtleScreen\u001b[39m.\u001b[39m_RUNNING \u001b[39m=\u001b[39m \u001b[39mTrue\u001b[39;00m\n\u001b[1;32m-> 1284\u001b[0m     \u001b[39mraise\u001b[39;00m Terminator\n\u001b[0;32m   1285\u001b[0m \u001b[39mif\u001b[39;00m \u001b[39mself\u001b[39m\u001b[39m.\u001b[39m_tracing \u001b[39m>\u001b[39m \u001b[39m0\u001b[39m:\n\u001b[0;32m   1286\u001b[0m     \u001b[39mself\u001b[39m\u001b[39m.\u001b[39m_updatecounter \u001b[39m+\u001b[39m\u001b[39m=\u001b[39m \u001b[39m1\u001b[39m\n",
      "\u001b[1;31mTerminator\u001b[0m: "
     ]
    },
    {
     "ename": "",
     "evalue": "",
     "output_type": "error",
     "traceback": [
      "\u001b[1;31mThe Kernel crashed while executing code in the the current cell or a previous cell. Please review the code in the cell(s) to identify a possible cause of the failure. Click <a href='https://aka.ms/vscodeJupyterKernelCrash'>here</a> for more info. View Jupyter <a href='command:jupyter.viewOutput'>log</a> for further details."
     ]
    }
   ],
   "source": [
    "#Introduction\n",
    "\n",
    "#Import the necesary libraries\n",
    "import turtle\n",
    "import time\n",
    "from math import *\n",
    "\n",
    "win = turtle.Screen()\n",
    "win.setup(1300,1100)\n",
    "win.bgcolor('black')\n",
    "win.tracer(0)\n",
    "\n",
    "sun = turtle.Turtle()\n",
    "sun.shape('circle')\n",
    "sun.shapesize(5,5)\n",
    "sun.color('yellow')\n",
    "\n",
    "# Draw text on the upper left window\n",
    "text_turtle = turtle.Turtle()\n",
    "text_turtle.hideturtle()\n",
    "text_turtle.penup()\n",
    "text_turtle.goto(-550, 450)  # Adjust the coordinates as needed\n",
    "text_turtle.color(\"white\")\n",
    "text_turtle.write(\"Solar System Mini-Dictionary\", font=(\"Arial\", 30, \"bold\"))\n",
    "\n",
    "text_turtle = turtle.Turtle()\n",
    "text_turtle.hideturtle()\n",
    "text_turtle.penup()\n",
    "text_turtle.goto(-500, 400)  # Adjust the coordinates as needed\n",
    "text_turtle.color(\"white\")\n",
    "text_turtle.write(\"by Hisham D Macaraya\", font=(\"Arial\", 20, \"normal\"))\n",
    "\n",
    "class Planet(turtle.Turtle):\n",
    "    def __init__(self,radius, color, size, star, offset):\n",
    "        super().__init__(shape='circle')\n",
    "        self.radius = radius\n",
    "        self.c = color\n",
    "        self.color(self.c)\n",
    "        self.size = size\n",
    "        self.shapesize(size,size)\n",
    "        #self.up()\n",
    "        self.angle = 0\n",
    "        self.star = star\n",
    "        self.offset = offset\n",
    "    \n",
    "\n",
    "    def move(self):\n",
    "        x = self.offset +  self.radius*cos(self.angle) # Angle in radians\n",
    "        y = self.radius*sin(self.angle)*0.3 \n",
    "\n",
    "        self.goto(self.star.xcor()+x,self.star.ycor()+y)\n",
    "\n",
    "\n",
    "earth = Planet(300,'blue', 1, sun, 100)\n",
    "mercury = Planet(110, 'grey', 0.6, sun, 0)\n",
    "venus = Planet(180, 'orange', 0.8, sun, 50)\n",
    "mars = Planet(400, 'red', 0.9, sun, 100)\n",
    "\n",
    "moon = Planet(40, 'grey', 0.2, earth, 0) # Moon a 'planet' that revolves around earth\n",
    "phobos = Planet(40, 'grey', 0.2, mars,0)\n",
    "deimos = Planet(35, 'white', 0.2, mars, 0)\n",
    "\n",
    "myList = [mercury, venus, earth, moon, mars, phobos, deimos]\n",
    "\n",
    "for i in myList:\n",
    "    i.penup()\n",
    "    i.goto(i.radius+i.offset, 0)\n",
    "    if i.star == sun:\n",
    "        i.pendown()\n",
    "\n",
    "\n",
    "# Main loop\n",
    "for _ in range(1000):  # Replace 1000 with the number of iterations you want\n",
    "    win.update()\n",
    "    for i in myList:\n",
    "        i.move()\n",
    "\n",
    "    # Increase the angle by 0.0x radians (further away - smaller angle change)\n",
    "    moon.angle += 0.06\n",
    "    phobos.angle += 0.06\n",
    "    deimos.angle += 0.08\n",
    "    \n",
    "    mercury.angle += 0.05\n",
    "    venus.angle += 0.03\n",
    "    earth.angle += 0.01\n",
    "    mars.angle += 0.007\n",
    "\n",
    "    time.sleep(0.01)\n",
    "\n",
    "turtle.bye()  # Close the turtle window\n"
   ]
  },
  {
   "cell_type": "code",
   "execution_count": 2,
   "metadata": {},
   "outputs": [
    {
     "name": "stdout",
     "output_type": "stream",
     "text": [
      "*******************************************\n",
      "* Welcome to Solar System Mini-Dictionary *\n",
      "*******************************************\n",
      "\n",
      "Hello, Sam. Welcome to Solar System Mini-Dictionary!\n"
     ]
    }
   ],
   "source": [
    "message = \"Welcome to Solar System Mini-Dictionary\"\n",
    "length = len(message)\n",
    "\n",
    "# Print top line of asterisks\n",
    "for i in range(length + 4):\n",
    "    print('*', end='')\n",
    "print()\n",
    "\n",
    "# Print message\n",
    "print('*', message, '*')\n",
    "\n",
    "# Print bottom line of asterisks\n",
    "for i in range(length + 4):\n",
    "    print('*', end='')\n",
    "print()\n",
    "print()\n",
    "#Ask the user for his/her name\n",
    "name = input(\"What is your name? \")\n",
    "print(\"Hello, \" + name + \". Welcome to Solar System Mini-Dictionary!\")"
   ]
  },
  {
   "cell_type": "code",
   "execution_count": 5,
   "metadata": {},
   "outputs": [
    {
     "name": "stdout",
     "output_type": "stream",
     "text": [
      "Sam, Please search the Solar System words below: \n",
      "\n",
      "Sun - The star at the center of the Solar System (our solar system), which shines in our sky, represented in astronomy and astrology by ☉.\n",
      "\n",
      "Exiting the search function... \n",
      "Thank you for using the dictionary.\n"
     ]
    }
   ],
   "source": [
    "# Mini Dictionary Program in Python\n",
    "print(name + ', ' + \"Please search the Solar System words below: \")\n",
    "\n",
    "\n",
    "# Initialize dictionary\n",
    "dictionary = {}\n",
    "\n",
    "# Function to add word to dictionary\n",
    "def add_word(word, definition):\n",
    "    dictionary[word.lower()] = definition\n",
    "\n",
    "# Function to find a word in the dictionary\n",
    "def find_word(word):\n",
    "    if word in dictionary:\n",
    "        print()\n",
    "        return dictionary.get(word.lower())\n",
    "        print()\n",
    "    else:\n",
    "        print()\n",
    "        return \"Word not found\"\n",
    "        print()\n",
    "\n",
    "# Function to delete a word from the dictionary\n",
    "def delete_word(word):\n",
    "    if word in dictionary:\n",
    "        del dictionary[word.lower()]\n",
    "    else:\n",
    "        print()\n",
    "        return \"Word not found\"\n",
    "\n",
    "# Function to search for a word in the dictionary\n",
    "def search_word():\n",
    "    while True:\n",
    "        word = input(\"Enter a word to search: \")\n",
    "        print(word, \"-\", find_word(word.lower()))\n",
    "        another_query = input(\"Do you want to make another query? (yes/no): \")\n",
    "        while another_query.lower() != 'yes' and another_query.lower() != 'no':\n",
    "            print()    \n",
    "            print(\"Invalid input. Please enter 'yes' or 'no'.\")\n",
    "            another_query = input(\"Do you want to make another query? (yes/no): \")\n",
    "        if another_query.lower() == 'no':\n",
    "            print()\n",
    "            print(\"Exiting the search function... \\nThank you for using the dictionary.\")\n",
    "            break\n",
    "\n",
    "# Test the functions\n",
    "add_word(\"Planet\", \"A celestial body moving in an elliptical orbit around a star.\")\n",
    "add_word(\"Sun\", \"The star at the center of the Solar System (our solar system), which shines in our sky, represented in astronomy and astrology by ☉.\")\n",
    "add_word(\"Moon\", \"The Earth's moon; the sole natural satellite of the Earth, represented in astronomy and astrology by ☾.\")\n",
    "add_word(\"Mercury\", \"The planet in the solar system with the closest orbit to the Sun, named after the god; represented by ☿\")\n",
    "add_word(\"Venus\", \"The planet in the solar system with the second closest orbit to the Sun, named after the goddess; represented by ♀\")\n",
    "add_word(\"Earth\", \"The planet in the solar system with the third closest orbit to the Sun, the only planet known to support life, named after the goddess; represented by ⊕\")\n",
    "add_word(\"Mars\", \"The planet in the solar system with the fourth closest orbit to the Sun, named after the god; represented by ♂\")\n",
    "add_word(\"Jupiter\", \"The planet in the solar system with the fifth closest orbit to the Sun, named after the god; represented by ♃\")\n",
    "add_word(\"Saturn\", \"The planet in the solar system with the sixth closest orbit to the Sun, named after the god; represented by ♄\")\n",
    "add_word(\"Uranus\", \"The planet in the solar system with the seventh closest orbit to the Sun, named after the god; represented by ♅\")\n",
    "add_word(\"Neptune\", \"The planet in the solar system with the eighth closest orbit to the Sun, named after the god; represented by ♆\")\n",
    "search_word()  # Prompts the user to enter a word and prints the definition"
   ]
  },
  {
   "cell_type": "code",
   "execution_count": 11,
   "metadata": {},
   "outputs": [
    {
     "name": "stdout",
     "output_type": "stream",
     "text": [
      "\n",
      "Mini Dictionary Options:\n",
      "1. Add a word\n",
      "2. Find a word\n",
      "3. Delete a word\n",
      "4. Exit\n"
     ]
    }
   ],
   "source": [
    "def option_menu():\n",
    "    while True:\n",
    "        print(\"\\nMini Dictionary Options:\")\n",
    "        print(\"1. Add a word\")\n",
    "        print(\"2. Find a word\")\n",
    "        print(\"3. Delete a word\")\n",
    "        print(\"4. Exit\")\n",
    "        option = input(\"Choose an option (1-4): \")\n",
    "\n",
    "        if option == '1':\n",
    "            word = input(\"Enter a word to add: \")\n",
    "            definition = input(\"Enter the definition: \")\n",
    "            add_word(word, definition)\n",
    "        elif option == '2':\n",
    "            word = input(\"Enter a word to find: \")\n",
    "            print(word, \"-\", find_word(word))\n",
    "        elif option == '3':\n",
    "            word = input(\"Enter a word to delete: \")\n",
    "            delete_word(word)\n",
    "        elif option == '4':\n",
    "            break\n",
    "        else:\n",
    "            print(\"Invalid option. Please enter a number between 1 and 4.\")\n",
    "\n",
    "# Test the function\n",
    "option_menu()"
   ]
  },
  {
   "cell_type": "code",
   "execution_count": 20,
   "metadata": {},
   "outputs": [
    {
     "name": "stdout",
     "output_type": "stream",
     "text": [
      "********************************************************\n",
      "* Thank you for using the Solar System Mini-Dictionary *\n",
      "********************************************************\n"
     ]
    }
   ],
   "source": [
    "message = \"Thank you for using the Solar System Mini-Dictionary\"\n",
    "length = len(message)\n",
    "\n",
    "# Print top line of asterisks\n",
    "for i in range(length + 4):\n",
    "    print('*', end='')\n",
    "print()\n",
    "\n",
    "# Print message\n",
    "print('*', message, '*')\n",
    "\n",
    "# Print bottom line of asterisks\n",
    "for i in range(length + 4):\n",
    "    print('*', end='')\n",
    "print()"
   ]
  }
 ],
 "metadata": {
  "kernelspec": {
   "display_name": "Python 3",
   "language": "python",
   "name": "python3"
  },
  "language_info": {
   "codemirror_mode": {
    "name": "ipython",
    "version": 3
   },
   "file_extension": ".py",
   "mimetype": "text/x-python",
   "name": "python",
   "nbconvert_exporter": "python",
   "pygments_lexer": "ipython3",
   "version": "3.12.0"
  }
 },
 "nbformat": 4,
 "nbformat_minor": 2
}
